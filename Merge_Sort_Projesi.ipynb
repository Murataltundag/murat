{
  "nbformat": 4,
  "nbformat_minor": 0,
  "metadata": {
    "colab": {
      "name": "Merge Sort Projesi",
      "provenance": [],
      "authorship_tag": "ABX9TyPpcH6ork8Y1DA+zO9OCuL1",
      "include_colab_link": true
    },
    "kernelspec": {
      "name": "python3",
      "display_name": "Python 3"
    },
    "language_info": {
      "name": "python"
    }
  },
  "cells": [
    {
      "cell_type": "markdown",
      "metadata": {
        "id": "view-in-github",
        "colab_type": "text"
      },
      "source": [
        "<a href=\"https://colab.research.google.com/github/Murataltundag/murat/blob/main/Merge_Sort_Projesi.ipynb\" target=\"_parent\"><img src=\"https://colab.research.google.com/assets/colab-badge.svg\" alt=\"Open In Colab\"/></a>"
      ]
    },
    {
      "cell_type": "code",
      "execution_count": 1,
      "metadata": {
        "colab": {
          "base_uri": "https://localhost:8080/"
        },
        "id": "UXLiumXWn95l",
        "outputId": "cfd6a3c7-a174-49b4-e754-3eb12bb049f9"
      },
      "outputs": [
        {
          "output_type": "stream",
          "name": "stdout",
          "text": [
            "[8, 11, 12, 16, 21, 22]\n"
          ]
        }
      ],
      "source": [
        "def mergeSort(dizi):\n",
        "   if len(dizi) > 1:\n",
        "        mid = len(dizi) // 2\n",
        "        left = dizi[:mid]\n",
        "        right = dizi[mid:]\n",
        "\n",
        "        # Yarılanmışı çağır\n",
        "        mergeSort(left)\n",
        "        mergeSort(right)\n",
        "\n",
        "        i = 0\n",
        "        j = 0\n",
        "        \n",
        "        # Ana yineleyici\n",
        "        k = 0\n",
        "        \n",
        "        while i < len(left) and j < len(right):\n",
        "            if left[i] <= right[j]:\n",
        "              dizi[k] = left[i]\n",
        "              i += 1\n",
        "            else:\n",
        "                dizi[k] = right[j]\n",
        "                j += 1\n",
        "            k += 1\n",
        "\n",
        "        while i < len(left):\n",
        "            dizi[k] = left[i]\n",
        "            i += 1\n",
        "            k += 1\n",
        "\n",
        "        while j < len(right):\n",
        "            dizi[k]=right[j]\n",
        "            j += 1\n",
        "            k += 1\n",
        "   return dizi  \n",
        "\n",
        "dizi = [16,21,11,8,12,22]\n",
        "print(mergeSort(dizi))"
      ]
    }
  ]
}