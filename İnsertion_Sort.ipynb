{
  "nbformat": 4,
  "nbformat_minor": 0,
  "metadata": {
    "colab": {
      "name": "İnsertion_Sort.ipynb",
      "provenance": [],
      "authorship_tag": "ABX9TyMGLDO1OFu1RFY2aotS/jQT",
      "include_colab_link": true
    },
    "kernelspec": {
      "name": "python3",
      "display_name": "Python 3"
    },
    "language_info": {
      "name": "python"
    }
  },
  "cells": [
    {
      "cell_type": "markdown",
      "metadata": {
        "id": "view-in-github",
        "colab_type": "text"
      },
      "source": [
        "<a href=\"https://colab.research.google.com/github/Murataltundag/murat/blob/main/%C4%B0nsertion_Sort.ipynb\" target=\"_parent\"><img src=\"https://colab.research.google.com/assets/colab-badge.svg\" alt=\"Open In Colab\"/></a>"
      ]
    },
    {
      "cell_type": "markdown",
      "source": [
        "[22,27,16,2,18,6] -> Insertion Sort\n",
        "\n",
        "1. Yukarı verilen dizinin sort türüne göre aşamalarını yazınız.\n",
        "2. Big-O gösterimini yazınız.\n",
        "3. Time Complexity: Average case: Aradığımız sayının ortada olması,Worst case: Aradığımız sayının sonda olması, Best case: Aradığımız sayının dizinin en başında olması.\n",
        "4. Dizi sıralandıktan sonra 18 sayısı hangi case kapsamına girer? Yazınız.\n",
        "\n",
        "\n",
        "[7,3,5,8,2,9,4,15,6] dizisinin Insertion Sort'a göre ilk 4 adımını yazınız."
      ],
      "metadata": {
        "id": "Ai7CGIgNbR_n"
      }
    },
    {
      "cell_type": "code",
      "source": [
        "\n",
        "Answers: n -> [22,27,16,2,18,6] , n-1 -> [2,27,16,22,18,6] , n-2 -> [2,6,16,22,18,27] , n-3 -> [2,6,16,22,18,27] , n-4 -> [2,6,16,18,22,27] , n-5 -> [2,6,16,18,22,27]\n",
        "\n",
        "2 - n=6, 1'den n'e kadar olan sayıların toplamı => n*(n+1)/2 => Big O Notation, O(n^2)=O(36)\n",
        "\n",
        "3 - Worst Case(Sonda Olması) => O(n^2), Average Case => O(n^2), Best Case => O(n) Liste zaten sıralı ise hiçbir şeyin yeri değiştirilmezdi. Her eleman için bir kere işlem yapılırdı.\n",
        "\n",
        "4 - 18 sayısı küçükten büyüğe sıralamada ortada yer aldığı için average casede değerlendirilebilir.\n",
        "\n",
        "5 - [2,3,5,8,7,9,4,15,6], [2,3,5,8,7,9,4,15,6] , [2,3,4,8,7,9,5,15,6], [2,3,4,5,7,9,8,15,6]"
      ],
      "metadata": {
        "id": "zvSJwjppa8HL"
      },
      "execution_count": null,
      "outputs": []
    }
  ]
}